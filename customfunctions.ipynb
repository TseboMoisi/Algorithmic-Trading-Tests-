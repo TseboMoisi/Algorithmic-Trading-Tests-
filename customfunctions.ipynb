{
 "cells": [
  {
   "cell_type": "code",
   "execution_count": 1,
   "id": "e338751e-1a06-4084-8608-7515aacaf3cf",
   "metadata": {},
   "outputs": [],
   "source": [
    "import numpy as np\n",
    "import pandas as pd\n",
    "from openbb import obb\n",
    "obb.user.preferences.output_type = \"dataframe\""
   ]
  },
  {
   "cell_type": "code",
   "execution_count": 2,
   "id": "101e4706-4e34-4bf5-bef2-41eab1fb6dd0",
   "metadata": {},
   "outputs": [],
   "source": [
    "df = obb.equity.price.historical(\n",
    "    \"AAPL\",\n",
    "    start_date=\"2020-07-01\",\n",
    "    end_date=\"2023-07-06\",\n",
    "    provider=\"yfinance\",\n",
    ")"
   ]
  },
  {
   "cell_type": "code",
   "execution_count": 5,
   "id": "c4e4fd1e-f71c-4d59-a047-59b44c092c32",
   "metadata": {},
   "outputs": [],
   "source": [
    "calendar_dates = pd.date_range(\n",
    "    start=df.index.min(),\n",
    "    end=df.index.max(),\n",
    "    freq=\"D\"\n",
    ")"
   ]
  },
  {
   "cell_type": "code",
   "execution_count": 7,
   "id": "1434916f-7ccb-4ba7-82e0-292ac46562ca",
   "metadata": {},
   "outputs": [],
   "source": [
    "calendar_prices = df.reindex(calendar_dates)"
   ]
  },
  {
   "cell_type": "code",
   "execution_count": 9,
   "id": "90954b1f-a28d-4f35-82db-9d1b64d2e602",
   "metadata": {},
   "outputs": [
    {
     "data": {
      "text/plain": [
       "date\n",
       "2020-07-01    0.862495\n",
       "2020-07-02    1.707497\n",
       "2020-07-06    1.477501\n",
       "2020-07-07    1.597496\n",
       "2020-07-08    1.285004\n",
       "                ...   \n",
       "2023-06-29    1.130005\n",
       "2023-06-30    3.220001\n",
       "2023-07-03    2.120010\n",
       "2023-07-05    2.360001\n",
       "2023-07-06    2.820007\n",
       "Length: 758, dtype: float64"
      ]
     },
     "execution_count": 9,
     "metadata": {},
     "output_type": "execute_result"
    }
   ],
   "source": [
    "# Here we are computing the range of stock price using an anonymous lambda function\n",
    "df.apply(lambda x: x[\"high\"] - x[\"low\"], axis=1)"
   ]
  },
  {
   "cell_type": "code",
   "execution_count": 11,
   "id": "eeaf01ff-5561-4221-bcaf-0ce8c18a0e25",
   "metadata": {},
   "outputs": [
    {
     "data": {
      "text/plain": [
       "date\n",
       "2020-07-01    0.862495\n",
       "2020-07-02    1.707497\n",
       "2020-07-06    1.477501\n",
       "2020-07-07    1.597496\n",
       "2020-07-08    1.285004\n",
       "                ...   \n",
       "2023-06-29    1.130005\n",
       "2023-06-30    3.220001\n",
       "2023-07-03    2.120010\n",
       "2023-07-05    2.360001\n",
       "2023-07-06    2.820007\n",
       "Length: 758, dtype: float64"
      ]
     },
     "execution_count": 11,
     "metadata": {},
     "output_type": "execute_result"
    }
   ],
   "source": [
    "# Here is a custom function that also computes the range of stock prices\n",
    "def fcn(row):\n",
    "    return row[\"high\"] - row[\"low\"]\n",
    "    \n",
    "df.apply(fcn, axis=1)"
   ]
  },
  {
   "cell_type": "code",
   "execution_count": 13,
   "id": "d886249e-faeb-4a32-817f-ddab37ff2886",
   "metadata": {},
   "outputs": [
    {
     "data": {
      "text/html": [
       "<div>\n",
       "<style scoped>\n",
       "    .dataframe tbody tr th:only-of-type {\n",
       "        vertical-align: middle;\n",
       "    }\n",
       "\n",
       "    .dataframe tbody tr th {\n",
       "        vertical-align: top;\n",
       "    }\n",
       "\n",
       "    .dataframe thead th {\n",
       "        text-align: right;\n",
       "    }\n",
       "</style>\n",
       "<table border=\"1\" class=\"dataframe\">\n",
       "  <thead>\n",
       "    <tr style=\"text-align: right;\">\n",
       "      <th></th>\n",
       "      <th>open</th>\n",
       "      <th>high</th>\n",
       "      <th>low</th>\n",
       "      <th>close</th>\n",
       "      <th>volume</th>\n",
       "      <th>split_ratio</th>\n",
       "      <th>dividend</th>\n",
       "      <th>valid</th>\n",
       "    </tr>\n",
       "    <tr>\n",
       "      <th>date</th>\n",
       "      <th></th>\n",
       "      <th></th>\n",
       "      <th></th>\n",
       "      <th></th>\n",
       "      <th></th>\n",
       "      <th></th>\n",
       "      <th></th>\n",
       "      <th></th>\n",
       "    </tr>\n",
       "  </thead>\n",
       "  <tbody>\n",
       "  </tbody>\n",
       "</table>\n",
       "</div>"
      ],
      "text/plain": [
       "Empty DataFrame\n",
       "Columns: [open, high, low, close, volume, split_ratio, dividend, valid]\n",
       "Index: []"
      ]
     },
     "execution_count": 13,
     "metadata": {},
     "output_type": "execute_result"
    }
   ],
   "source": [
    "# A test for if the data is valid by flagging where the closing price is less than the low price or greater than the high price\n",
    "df[\"valid\"] = df.apply(\n",
    "    lambda x: x[\"low\"] <= x[\"close\"] <= x[\"high\"], axis=1)\n",
    "\n",
    "df[df.valid == False]"
   ]
  },
  {
   "cell_type": "code",
   "execution_count": null,
   "id": "9def6cdb-ab8f-40cd-9836-62e481d9caac",
   "metadata": {},
   "outputs": [],
   "source": [
    "def calculate_range(row, high_col, low_col, threshold):\n",
    "    range = row[high_col] - row[low_col]\n",
    "    return range if range > threshold else np.nan"
   ]
  }
 ],
 "metadata": {
  "kernelspec": {
   "display_name": "Python [conda env:my-quant-stack]",
   "language": "python",
   "name": "conda-env-my-quant-stack-py"
  },
  "language_info": {
   "codemirror_mode": {
    "name": "ipython",
    "version": 3
   },
   "file_extension": ".py",
   "mimetype": "text/x-python",
   "name": "python",
   "nbconvert_exporter": "python",
   "pygments_lexer": "ipython3",
   "version": "3.10.16"
  }
 },
 "nbformat": 4,
 "nbformat_minor": 5
}
