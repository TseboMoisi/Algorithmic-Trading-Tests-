{
 "cells": [
  {
   "cell_type": "code",
   "execution_count": 1,
   "id": "0c975388-08bf-4da7-8526-5ed0442c59dc",
   "metadata": {},
   "outputs": [],
   "source": [
    "import numpy as np\n",
    "import pandas as pd\n",
    "from openbb import obb\n",
    "obb.user.preferences.output_type = \"dataframe\""
   ]
  },
  {
   "cell_type": "code",
   "execution_count": 3,
   "id": "9df89dc5-1152-4366-8d59-7b4484fdb033",
   "metadata": {},
   "outputs": [],
   "source": [
    "df = obb.equity.price.historical(\n",
    "    \"AAPL\",\n",
    "    start_date=\"2020-01-01\",\n",
    "    provider=\"yfinance\"\n",
    ")"
   ]
  },
  {
   "cell_type": "code",
   "execution_count": 5,
   "id": "02804057-45ae-44fc-924c-997192805f80",
   "metadata": {},
   "outputs": [],
   "source": [
    "close = df[\"close\"]"
   ]
  },
  {
   "cell_type": "code",
   "execution_count": 7,
   "id": "79fb6ae9-580c-4d33-8523-c2ce6dae5366",
   "metadata": {},
   "outputs": [],
   "source": [
    "# Calculate simple returm\n",
    "returns = close.pct_change()"
   ]
  },
  {
   "cell_type": "code",
   "execution_count": 9,
   "id": "6bb0341e-d08e-4d3c-80ce-0dac171de236",
   "metadata": {},
   "outputs": [],
   "source": [
    "# Calculate the daily standard deviaation of returns \n",
    "std_dev = returns.dropna().std()"
   ]
  },
  {
   "cell_type": "code",
   "execution_count": null,
   "id": "d24292d1-56f0-4158-93be-dd130a765c81",
   "metadata": {},
   "outputs": [],
   "source": []
  }
 ],
 "metadata": {
  "kernelspec": {
   "display_name": "Python [conda env:my-quant-stack]",
   "language": "python",
   "name": "conda-env-my-quant-stack-py"
  },
  "language_info": {
   "codemirror_mode": {
    "name": "ipython",
    "version": 3
   },
   "file_extension": ".py",
   "mimetype": "text/x-python",
   "name": "python",
   "nbconvert_exporter": "python",
   "pygments_lexer": "ipython3",
   "version": "3.10.16"
  }
 },
 "nbformat": 4,
 "nbformat_minor": 5
}
