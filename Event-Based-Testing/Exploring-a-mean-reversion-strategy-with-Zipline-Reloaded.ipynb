{
 "cells": [
  {
   "cell_type": "code",
   "execution_count": 101,
   "id": "4136a52d-7364-4d8b-9326-35259c576ab6",
   "metadata": {},
   "outputs": [],
   "source": [
    "import pandas as pd\n",
    "import numpy as np\n",
    "from zipline import run_algorithm\n",
    "from zipline.pipeline import Pipeline\n",
    "from zipline.pipeline.data import USEquityPricing\n",
    "from zipline.pipeline.factors import AverageDollarVolume, CustomFactor, Returns\n",
    "from zipline.api import (\n",
    "    attach_pipeline,\n",
    "    calendars,\n",
    "    pipeline_output,\n",
    "    date_rules,\n",
    "    time_rules,\n",
    "    set_commission, \n",
    "    set_slippage,\n",
    "    record,\n",
    "    order_target_percent,\n",
    "    get_open_orders,\n",
    "    get_datetime,\n",
    "    schedule_function\n",
    ")\n",
    "import pandas_datareader as web\n",
    "from zipline.finance import commission\n",
    "from zipline.finance import slippage"
   ]
  },
  {
   "cell_type": "code",
   "execution_count": 103,
   "id": "b6ae1ffb-2b56-4bb7-a16b-e73ee24c0440",
   "metadata": {},
   "outputs": [],
   "source": [
    "# Set the number of longs and shorts and the lookback periods\n",
    "N_LONGS = N_SHORTS = 50\n",
    "MONTH = 21\n",
    "YEAR = 12 * MONTH"
   ]
  },
  {
   "cell_type": "code",
   "execution_count": 105,
   "id": "c1b7fb80-5c95-4201-bc53-97d05d5b91c5",
   "metadata": {},
   "outputs": [],
   "source": [
    "# the mean reversion factor\n",
    "class MeanReversion(CustomFactor):\n",
    "    inputs = [Returns(window_length=MONTH)]\n",
    "    window_length = YEAR\n",
    "    def compute(self, today, assets, out, monthly_returns):\n",
    "        df = pd.DataFrame(monthly_returns)\n",
    "        out[:] = df.iloc[-1].sub(df.mean()).div(df.std())"
   ]
  },
  {
   "cell_type": "code",
   "execution_count": 107,
   "id": "2965caa1-6df8-4bee-b832-c6b72fbc6a8d",
   "metadata": {},
   "outputs": [],
   "source": [
    "# implement the function that returns the pipeline using the factor\n",
    "def make_pipeline():\n",
    "    mean_reversion = MeanReversion()\n",
    "    dollar_volume = AverageDollarVolume(window_length=30)\n",
    "    return Pipeline(\n",
    "        columns={\n",
    "            \"longs\": mean_reversion.bottom(N_LONGS),\n",
    "            \"shorts\": mean_reversion.top(N_SHORTS),\n",
    "            \"ranking\": mean_reversion.rank(ascending=False),\n",
    "        },\n",
    "        screen=dollar_volume.top(100),\n",
    "    )"
   ]
  },
  {
   "cell_type": "code",
   "execution_count": 109,
   "id": "ab37da99-5e2b-458f-abe8-be78f78dccb4",
   "metadata": {},
   "outputs": [],
   "source": [
    "# function that hooks into the event that fires before trading starts\n",
    "def before_trading_start(context, data):\n",
    "    context.factor_data = pipeline_output(\n",
    "        \"factor_pipeline\")"
   ]
  },
  {
   "cell_type": "code",
   "execution_count": 123,
   "id": "ae033606-036f-4410-8ddf-f4f19663c750",
   "metadata": {},
   "outputs": [],
   "source": [
    "# function that is invoked when the backtest begins\n",
    "def initialize(context):\n",
    "    attach_pipeline(make_pipeline(), \"factor_pipeline\")\n",
    "    schedule_function(\n",
    "        rebalance,\n",
    "        date_rules.week_start(),\n",
    "        time_rules.market_open(),\n",
    "        calendar=calendars.US_EQUITIES,\n",
    "    )\n",
    "    set_commission(\n",
    "        us_equities=commission.PerShare(\n",
    "            cost=0.00075, min_trade_cost=0.01\n",
    "        )\n",
    "    )\n",
    "    set_slippage(\n",
    "        us_equities=slippage.VolumeShareSlippage(\n",
    "            volume_limit=0.0025, price_impact=0.01\n",
    "        )\n",
    "    )"
   ]
  },
  {
   "cell_type": "code",
   "execution_count": 135,
   "id": "409f2bc9-76fe-4648-bfba-dc22458d642b",
   "metadata": {},
   "outputs": [],
   "source": [
    "def rebalance(context, data):\n",
    "    factor_data = context.factor_data\n",
    "    record(factor_data=factor_data.ranking)\n",
    "    # extract the symbols from the 'factor_data' DataFrame and record the asset prices\n",
    "    assets = factor_data.index\n",
    "    record(prices=data.current(assets, \"price\"))\n",
    "    # identify the assets to go long, to go short, and to divest from the portfolio\n",
    "    longs = assets[factor_data.longs]\n",
    "    shorts = assets[factor_data.shorts]\n",
    "    divest = set(context.portfolio.positions.keys()) - set(longs.union(shorts))\n",
    "    # we print output to the user and call the 'exec_trades' function to execute our desired orders\n",
    "    print(\n",
    "        f\"{get_datetime().date()} | Longs {len(longs)} | Shorts | {len(shorts)} | {context.portfolio.portfolio_value}\"\n",
    "    )\n",
    "    exec_trades(\n",
    "        data,\n",
    "        assets=divest,\n",
    "        target_percent=0\n",
    "    )\n",
    "    exec_trades(\n",
    "        data,\n",
    "        assets=longs,\n",
    "        target_percent=1 / N_LONGS\n",
    "    )\n",
    "    exec_trades(\n",
    "        data,\n",
    "        assets=shorts,\n",
    "        target_percent=-1 / N_SHORTS\n",
    "    )"
   ]
  },
  {
   "cell_type": "code",
   "execution_count": 137,
   "id": "44151e18-b052-47ae-9100-d966fcdb75d6",
   "metadata": {},
   "outputs": [],
   "source": [
    "def exec_trades(data, assets, target_percent):\n",
    "    for asset in assets:\n",
    "        if data.can_trade(asset) and not get_open_orders(asset):\n",
    "            order_target_percent(asset, target_percent)"
   ]
  },
  {
   "cell_type": "code",
   "execution_count": 139,
   "id": "7f03bb5d-db1e-4c1f-aea0-fe9ab4a3cd92",
   "metadata": {},
   "outputs": [],
   "source": [
    "# function useful to run reports or event trigger alerts if certain thresholds are passed \n",
    "def analyze(context, perf):\n",
    "    perf.portfolio_value.plot()"
   ]
  },
  {
   "cell_type": "code",
   "execution_count": 145,
   "id": "a3ae4fc4-6d50-48b1-9de5-2a1584589800",
   "metadata": {},
   "outputs": [
    {
     "name": "stderr",
     "output_type": "stream",
     "text": [
      "C:\\Users\\tsebo\\AppData\\Local\\Temp\\tmp5kad727w\\ipykernel_17056\\3676248626.py:5: FutureWarning: The default fill_method='pad' in Series.pct_change is deprecated and will be removed in a future version. Either fill in any non-leading NA values prior to calling pct_change or specify 'fill_method=None' to not fill NA values.\n",
      "  benchmark_returns = sp500.pct_change()\n"
     ]
    }
   ],
   "source": [
    "# compute the daily returns of a benchmark\n",
    "start = pd.Timestamp(\"2016-01-01\")\n",
    "end = pd.Timestamp(\"2018\")\n",
    "sp500 = web.DataReader('SP500', 'fred', start, end).SP500\n",
    "benchmark_returns = sp500.pct_change()"
   ]
  },
  {
   "cell_type": "code",
   "execution_count": 146,
   "id": "b1eb92aa-b9b1-4344-ba87-877c541911c5",
   "metadata": {},
   "outputs": [
    {
     "name": "stderr",
     "output_type": "stream",
     "text": [
      "D:\\Anaconda\\An\\envs\\my-quant-stack\\lib\\site-packages\\zipline\\utils\\events.py:486: FutureWarning: Series.view is deprecated and will be removed in a future version. Use ``astype`` as an alternative to change the dtype.\n",
      "  .view(np.int64)\n"
     ]
    },
    {
     "name": "stdout",
     "output_type": "stream",
     "text": [
      "2016-01-04 | Longs 0 | Shorts | 1 | 100000.0\n",
      "2016-01-11 | Longs 0 | Shorts | 1 | 99993.16349999886\n",
      "2016-01-19 | Longs 2 | Shorts | 1 | 100021.36374999832\n",
      "2016-01-25 | Longs 2 | Shorts | 2 | 100047.47224999769\n",
      "2016-02-01 | Longs 3 | Shorts | 3 | 99889.9749999967\n",
      "2016-02-08 | Longs 2 | Shorts | 2 | 99616.54649999554\n",
      "2016-02-16 | Longs 2 | Shorts | 0 | 99849.90549999391\n",
      "2016-02-22 | Longs 1 | Shorts | 0 | 100195.42449999285\n",
      "2016-02-29 | Longs 1 | Shorts | 0 | 100155.76424999181\n",
      "2016-03-07 | Longs 2 | Shorts | 1 | 100114.18424999181\n",
      "2016-03-14 | Longs 0 | Shorts | 0 | 100304.28374999072\n",
      "2016-03-21 | Longs 1 | Shorts | 2 | 99210.60974998782\n",
      "2016-03-28 | Longs 1 | Shorts | 0 | 99355.18649998584\n",
      "2016-04-04 | Longs 1 | Shorts | 0 | 99108.98424998432\n",
      "2016-04-11 | Longs 2 | Shorts | 1 | 99483.63424998433\n",
      "2016-04-18 | Longs 2 | Shorts | 0 | 99556.3877499843\n",
      "2016-04-25 | Longs 2 | Shorts | 0 | 99573.0884999835\n",
      "2016-05-02 | Longs 4 | Shorts | 0 | 99557.5844999825\n",
      "2016-05-09 | Longs 3 | Shorts | 1 | 99399.40899998133\n",
      "2016-05-16 | Longs 3 | Shorts | 2 | 99355.67949998101\n",
      "2016-05-23 | Longs 3 | Shorts | 2 | 99271.2524999799\n",
      "2016-05-31 | Longs 1 | Shorts | 2 | 99356.98699997793\n",
      "2016-06-06 | Longs 4 | Shorts | 3 | 99366.66949997128\n",
      "2016-06-13 | Longs 3 | Shorts | 1 | 99543.62649996586\n",
      "2016-06-20 | Longs 2 | Shorts | 1 | 99459.02499996335\n",
      "2016-06-27 | Longs 4 | Shorts | 1 | 98925.75674996113\n",
      "2016-07-05 | Longs 0 | Shorts | 3 | 99260.76674996056\n",
      "2016-07-11 | Longs 3 | Shorts | 2 | 99335.8389999511\n",
      "2016-07-18 | Longs 1 | Shorts | 1 | 99421.94524994826\n",
      "2016-07-25 | Longs 0 | Shorts | 2 | 99641.29024993867\n",
      "2016-08-01 | Longs 0 | Shorts | 2 | 99574.93024993711\n",
      "2016-08-08 | Longs 1 | Shorts | 2 | 99451.26299993655\n",
      "2016-08-15 | Longs 1 | Shorts | 0 | 99399.90774993491\n",
      "2016-08-22 | Longs 2 | Shorts | 0 | 99388.73049993235\n",
      "2016-08-29 | Longs 3 | Shorts | 0 | 99375.95774993206\n",
      "2016-09-06 | Longs 4 | Shorts | 1 | 99240.71024993109\n",
      "2016-09-12 | Longs 6 | Shorts | 0 | 99284.24874992917\n",
      "2016-09-19 | Longs 3 | Shorts | 0 | 99310.75224992516\n",
      "2016-09-26 | Longs 2 | Shorts | 1 | 99342.7364999232\n",
      "2016-10-03 | Longs 2 | Shorts | 0 | 99432.89149991871\n",
      "2016-10-10 | Longs 1 | Shorts | 0 | 99534.435249917\n",
      "2016-10-17 | Longs 2 | Shorts | 1 | 99567.15024991655\n",
      "2016-10-24 | Longs 1 | Shorts | 4 | 99701.46224991114\n",
      "2016-10-31 | Longs 2 | Shorts | 4 | 99758.98474989916\n",
      "2016-11-07 | Longs 1 | Shorts | 2 | 99690.08774989613\n",
      "2016-11-14 | Longs 2 | Shorts | 0 | 99684.02199989371\n",
      "2016-11-21 | Longs 3 | Shorts | 0 | 99687.2547498928\n",
      "2016-11-28 | Longs 6 | Shorts | 0 | 99699.0027498928\n",
      "2016-12-05 | Longs 5 | Shorts | 1 | 99579.59924989115\n",
      "2016-12-12 | Longs 6 | Shorts | 0 | 99907.10849989054\n",
      "2016-12-19 | Longs 1 | Shorts | 0 | 100016.05374988737\n",
      "2016-12-27 | Longs 0 | Shorts | 0 | 99994.40949988627\n",
      "2017-01-03 | Longs 2 | Shorts | 1 | 99995.46924988582\n",
      "2017-01-09 | Longs 0 | Shorts | 2 | 99969.06774988303\n",
      "2017-01-17 | Longs 1 | Shorts | 2 | 99992.54574988167\n",
      "2017-01-23 | Longs 2 | Shorts | 1 | 100009.24349988031\n",
      "2017-01-30 | Longs 1 | Shorts | 3 | 100019.00799987803\n",
      "2017-02-06 | Longs 2 | Shorts | 4 | 100004.74024987646\n",
      "2017-02-13 | Longs 1 | Shorts | 4 | 100064.67049987541\n",
      "2017-02-21 | Longs 1 | Shorts | 0 | 100071.47524986957\n",
      "2017-02-27 | Longs 2 | Shorts | 6 | 100130.77874986651\n",
      "2017-03-06 | Longs 1 | Shorts | 4 | 100086.32224986328\n",
      "2017-03-13 | Longs 1 | Shorts | 4 | 99994.76399985905\n",
      "2017-03-20 | Longs 0 | Shorts | 2 | 100120.12849985655\n",
      "2017-03-27 | Longs 1 | Shorts | 1 | 100126.64024985455\n",
      "2017-04-03 | Longs 3 | Shorts | 0 | 100107.37074985116\n",
      "2017-04-10 | Longs 6 | Shorts | 2 | 100145.07774984317\n",
      "2017-04-17 | Longs 6 | Shorts | 2 | 100180.71524983783\n",
      "2017-04-24 | Longs 2 | Shorts | 3 | 100464.08749983532\n",
      "2017-05-01 | Longs 1 | Shorts | 4 | 100561.82099982862\n",
      "2017-05-08 | Longs 1 | Shorts | 5 | 100368.84449982464\n",
      "2017-05-15 | Longs 1 | Shorts | 2 | 100186.15274981526\n",
      "2017-05-22 | Longs 0 | Shorts | 3 | 100150.98049981466\n",
      "2017-05-30 | Longs 1 | Shorts | 2 | 100135.34049981223\n",
      "2017-06-05 | Longs 3 | Shorts | 2 | 100122.40974981069\n",
      "2017-06-12 | Longs 4 | Shorts | 0 | 100296.96449980921\n",
      "2017-06-19 | Longs 3 | Shorts | 2 | 100208.68149980347\n",
      "2017-06-26 | Longs 5 | Shorts | 4 | 100103.75849980078\n",
      "2017-07-03 | Longs 9 | Shorts | 5 | 100345.95199979268\n",
      "2017-07-10 | Longs 8 | Shorts | 5 | 100121.36274979003\n",
      "2017-07-17 | Longs 4 | Shorts | 5 | 100483.58899978599\n",
      "2017-07-24 | Longs 5 | Shorts | 2 | 100115.06224977087\n",
      "2017-07-31 | Longs 2 | Shorts | 6 | 100449.19574976567\n",
      "2017-08-07 | Longs 1 | Shorts | 6 | 100488.33099976288\n",
      "2017-08-14 | Longs 1 | Shorts | 4 | 100579.2624997609\n",
      "2017-08-21 | Longs 1 | Shorts | 1 | 100653.2324997606\n",
      "2017-08-28 | Longs 3 | Shorts | 1 | 100627.89124975448\n",
      "2017-09-05 | Longs 1 | Shorts | 1 | 100743.42449975121\n",
      "2017-09-11 | Longs 2 | Shorts | 3 | 100798.43974974885\n",
      "2017-09-18 | Longs 4 | Shorts | 1 | 101008.80124974706\n",
      "2017-09-25 | Longs 5 | Shorts | 1 | 101256.9089997437\n",
      "2017-10-02 | Longs 4 | Shorts | 0 | 101395.06399974026\n",
      "2017-10-09 | Longs 3 | Shorts | 3 | 101545.01899973433\n",
      "2017-10-16 | Longs 3 | Shorts | 3 | 101508.26249972888\n",
      "2017-10-23 | Longs 4 | Shorts | 2 | 101593.4162497248\n",
      "2017-10-30 | Longs 9 | Shorts | 7 | 101234.84999972026\n",
      "2017-11-06 | Longs 6 | Shorts | 6 | 101138.68499971826\n",
      "2017-11-13 | Longs 4 | Shorts | 4 | 100804.24474971641\n",
      "2017-11-20 | Longs 4 | Shorts | 2 | 100692.08324971468\n",
      "2017-11-27 | Longs 3 | Shorts | 2 | 100687.88624971322\n",
      "2017-12-04 | Longs 3 | Shorts | 1 | 100996.10474970903\n",
      "2017-12-11 | Longs 1 | Shorts | 2 | 101074.34449970587\n",
      "2017-12-18 | Longs 4 | Shorts | 1 | 101052.60499970303\n",
      "2017-12-26 | Longs 4 | Shorts | 4 | 100838.68299969957\n"
     ]
    },
    {
     "data": {
      "image/png": "[encoded data removed]",
      "text/plain": [
       "<Figure size 640x480 with 1 Axes>"
      ]
     },
     "metadata": {},
     "output_type": "display_data"
    }
   ],
   "source": [
    "perf = run_algorithm(\n",
    "    start=start,\n",
    "    end=end,\n",
    "    initialize=initialize,\n",
    "    analyze=analyze,\n",
    "    benchmark_returns=benchmark_returns,\n",
    "    before_trading_start=before_trading_start,\n",
    "    capital_base=100000,\n",
    "    bundle=\"quandl\"\n",
    ")\n",
    "perf.to_pickle(\"mean_reversion.pickle\")"
   ]
  },
  {
   "cell_type": "code",
   "execution_count": null,
   "id": "f3617e8e-5151-4ed6-b399-33f1a572b521",
   "metadata": {},
   "outputs": [],
   "source": []
  }
 ],
 "metadata": {
  "kernelspec": {
   "display_name": "Python [conda env:my-quant-stack]",
   "language": "python",
   "name": "conda-env-my-quant-stack-py"
  },
  "language_info": {
   "codemirror_mode": {
    "name": "ipython",
    "version": 3
   },
   "file_extension": ".py",
   "mimetype": "text/x-python",
   "name": "python",
   "nbconvert_exporter": "python",
   "pygments_lexer": "ipython3",
   "version": "3.10.16"
  }
 },
 "nbformat": 4,
 "nbformat_minor": 5
}
