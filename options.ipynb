{
 "cells": [
  {
   "cell_type": "code",
   "execution_count": 7,
   "id": "679094a7-ff2a-4a16-bf91-fc92f7a0c666",
   "metadata": {},
   "outputs": [],
   "source": [
    "from IPython.display import display\n",
    "from openbb import obb"
   ]
  },
  {
   "cell_type": "code",
   "execution_count": 8,
   "id": "3d5dc12e-0e6c-423c-8b54-0c04b32f6f20",
   "metadata": {},
   "outputs": [],
   "source": [
    "obb.user.preferences.output_type = \"dataframe\""
   ]
  },
  {
   "cell_type": "code",
   "execution_count": 9,
   "id": "f1411341-ac1e-4da9-b7bb-90f012359c34",
   "metadata": {},
   "outputs": [],
   "source": [
    "chains = obb.derivatives.options.chains(symbol=\"SPY\")"
   ]
  },
  {
   "cell_type": "code",
   "execution_count": 13,
   "id": "ec0177e0-3784-4f7e-843e-9eaa619d1d3b",
   "metadata": {},
   "outputs": [
    {
     "name": "stdout",
     "output_type": "stream",
     "text": [
      "<class 'pandas.core.frame.DataFrame'>\n",
      "RangeIndex: 10446 entries, 0 to 10445\n",
      "Data columns (total 29 columns):\n",
      " #   Column              Non-Null Count  Dtype  \n",
      "---  ------              --------------  -----  \n",
      " 0   underlying_symbol   10446 non-null  object \n",
      " 1   underlying_price    10446 non-null  float64\n",
      " 2   contract_symbol     10446 non-null  object \n",
      " 3   expiration          10446 non-null  object \n",
      " 4   dte                 10446 non-null  int64  \n",
      " 5   strike              10446 non-null  float64\n",
      " 6   option_type         10446 non-null  object \n",
      " 7   open_interest       10446 non-null  int64  \n",
      " 8   volume              10446 non-null  int64  \n",
      " 9   theoretical_price   10446 non-null  float64\n",
      " 10  last_trade_price    10446 non-null  float64\n",
      " 11  last_trade_time     9102 non-null   object \n",
      " 12  tick                10446 non-null  object \n",
      " 13  bid                 10446 non-null  float64\n",
      " 14  bid_size            10446 non-null  int64  \n",
      " 15  ask                 10446 non-null  float64\n",
      " 16  ask_size            10446 non-null  int64  \n",
      " 17  open                10446 non-null  float64\n",
      " 18  high                10446 non-null  float64\n",
      " 19  low                 10446 non-null  float64\n",
      " 20  prev_close          10446 non-null  float64\n",
      " 21  change              10446 non-null  float64\n",
      " 22  change_percent      10446 non-null  float64\n",
      " 23  implied_volatility  10446 non-null  float64\n",
      " 24  delta               10446 non-null  float64\n",
      " 25  gamma               10446 non-null  float64\n",
      " 26  theta               10446 non-null  float64\n",
      " 27  vega                10446 non-null  float64\n",
      " 28  rho                 10446 non-null  float64\n",
      "dtypes: float64(18), int64(5), object(6)\n",
      "memory usage: 2.3+ MB\n"
     ]
    },
    {
     "data": {
      "text/plain": [
       "None"
      ]
     },
     "metadata": {},
     "output_type": "display_data"
    }
   ],
   "source": [
    "display(chains.info())"
   ]
  },
  {
   "cell_type": "code",
   "execution_count": 25,
   "id": "4c3a22a4-4ded-4641-a802-6e7c920e17bc",
   "metadata": {},
   "outputs": [],
   "source": [
    "historic = obb.equity.price.historical(\n",
    "    symbol=\"SPY\",\n",
    "    provider=\"yfinance\",\n",
    "    start_date=\"2023-01-01\",\n",
    "    end_date=\"2023-12-31\"\n",
    ")[[\"close\", \"volume\"]]"
   ]
  },
  {
   "cell_type": "code",
   "execution_count": 27,
   "id": "3d4f5659-060a-4e65-87e9-56279254b62d",
   "metadata": {},
   "outputs": [
    {
     "data": {
      "text/html": [
       "<div>\n",
       "<style scoped>\n",
       "    .dataframe tbody tr th:only-of-type {\n",
       "        vertical-align: middle;\n",
       "    }\n",
       "\n",
       "    .dataframe tbody tr th {\n",
       "        vertical-align: top;\n",
       "    }\n",
       "\n",
       "    .dataframe thead th {\n",
       "        text-align: right;\n",
       "    }\n",
       "</style>\n",
       "<table border=\"1\" class=\"dataframe\">\n",
       "  <thead>\n",
       "    <tr style=\"text-align: right;\">\n",
       "      <th></th>\n",
       "      <th>close</th>\n",
       "      <th>volume</th>\n",
       "    </tr>\n",
       "    <tr>\n",
       "      <th>date</th>\n",
       "      <th></th>\n",
       "      <th></th>\n",
       "    </tr>\n",
       "  </thead>\n",
       "  <tbody>\n",
       "    <tr>\n",
       "      <th>2023-01-03</th>\n",
       "      <td>380.820007</td>\n",
       "      <td>74850700</td>\n",
       "    </tr>\n",
       "    <tr>\n",
       "      <th>2023-01-04</th>\n",
       "      <td>383.760010</td>\n",
       "      <td>85934100</td>\n",
       "    </tr>\n",
       "    <tr>\n",
       "      <th>2023-01-05</th>\n",
       "      <td>379.380005</td>\n",
       "      <td>76970500</td>\n",
       "    </tr>\n",
       "    <tr>\n",
       "      <th>2023-01-06</th>\n",
       "      <td>388.079987</td>\n",
       "      <td>104189600</td>\n",
       "    </tr>\n",
       "    <tr>\n",
       "      <th>2023-01-09</th>\n",
       "      <td>387.859985</td>\n",
       "      <td>73978100</td>\n",
       "    </tr>\n",
       "    <tr>\n",
       "      <th>...</th>\n",
       "      <td>...</td>\n",
       "      <td>...</td>\n",
       "    </tr>\n",
       "    <tr>\n",
       "      <th>2023-12-22</th>\n",
       "      <td>473.649994</td>\n",
       "      <td>67126600</td>\n",
       "    </tr>\n",
       "    <tr>\n",
       "      <th>2023-12-26</th>\n",
       "      <td>475.649994</td>\n",
       "      <td>55387000</td>\n",
       "    </tr>\n",
       "    <tr>\n",
       "      <th>2023-12-27</th>\n",
       "      <td>476.510010</td>\n",
       "      <td>68000300</td>\n",
       "    </tr>\n",
       "    <tr>\n",
       "      <th>2023-12-28</th>\n",
       "      <td>476.690002</td>\n",
       "      <td>77158100</td>\n",
       "    </tr>\n",
       "    <tr>\n",
       "      <th>2023-12-29</th>\n",
       "      <td>475.309998</td>\n",
       "      <td>122234100</td>\n",
       "    </tr>\n",
       "  </tbody>\n",
       "</table>\n",
       "<p>250 rows × 2 columns</p>\n",
       "</div>"
      ],
      "text/plain": [
       "                 close     volume\n",
       "date                             \n",
       "2023-01-03  380.820007   74850700\n",
       "2023-01-04  383.760010   85934100\n",
       "2023-01-05  379.380005   76970500\n",
       "2023-01-06  388.079987  104189600\n",
       "2023-01-09  387.859985   73978100\n",
       "...                ...        ...\n",
       "2023-12-22  473.649994   67126600\n",
       "2023-12-26  475.649994   55387000\n",
       "2023-12-27  476.510010   68000300\n",
       "2023-12-28  476.690002   77158100\n",
       "2023-12-29  475.309998  122234100\n",
       "\n",
       "[250 rows x 2 columns]"
      ]
     },
     "metadata": {},
     "output_type": "display_data"
    }
   ],
   "source": [
    "display(historic)"
   ]
  },
  {
   "cell_type": "code",
   "execution_count": null,
   "id": "45b14830-0fa0-4c7f-a500-6423d116b0e1",
   "metadata": {},
   "outputs": [],
   "source": []
  }
 ],
 "metadata": {
  "kernelspec": {
   "display_name": "Python [conda env:my-quant-stack]",
   "language": "python",
   "name": "conda-env-my-quant-stack-py"
  },
  "language_info": {
   "codemirror_mode": {
    "name": "ipython",
    "version": 3
   },
   "file_extension": ".py",
   "mimetype": "text/x-python",
   "name": "python",
   "nbconvert_exporter": "python",
   "pygments_lexer": "ipython3",
   "version": "3.10.16"
  }
 },
 "nbformat": 4,
 "nbformat_minor": 5
}
