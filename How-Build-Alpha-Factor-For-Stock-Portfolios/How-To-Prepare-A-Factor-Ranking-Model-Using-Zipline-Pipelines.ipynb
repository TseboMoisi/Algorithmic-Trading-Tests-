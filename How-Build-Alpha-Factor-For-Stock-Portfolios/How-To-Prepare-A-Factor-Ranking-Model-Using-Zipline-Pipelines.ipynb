{
 "cells": [
  {
   "cell_type": "code",
   "execution_count": 1,
   "id": "1d6a0085-a2e0-4e19-9215-97aa479c5ce2",
   "metadata": {},
   "outputs": [
    {
     "name": "stderr",
     "output_type": "stream",
     "text": [
      "D:\\Anaconda\\An\\envs\\my-quant-stack\\lib\\site-packages\\h5py\\__init__.py:36: UserWarning: h5py is running against HDF5 1.14.4 when it was built against 1.14.6, this may cause problems\n",
      "  _warn((\"h5py is running against HDF5 {0} when it was built against {1}, \"\n"
     ]
    }
   ],
   "source": [
    "import os\n",
    "import numpy as np\n",
    "import pandas as pd\n",
    "from zipline.data.bundles.core import load\n",
    "from zipline.pipeline import Pipeline\n",
    "from zipline.pipeline.data import USEquityPricing\n",
    "from zipline.pipeline.engine import SimplePipelineEngine\n",
    "from zipline.pipeline.factors import AverageDollarVolume, CustomFactor, Returns\n",
    "from zipline.pipeline.loaders import USEquityPricingLoader"
   ]
  },
  {
   "cell_type": "code",
   "execution_count": 3,
   "id": "7ad06398-992c-4663-9c3f-9b9d2f5dc624",
   "metadata": {},
   "outputs": [],
   "source": [
    "os.environ[\"QUANDL_APL_KEY\"] = \"xJxivCnBbzYLF2A2wmt6\"\n",
    "bundle_data = load(\"quandl\", os.environ, None)"
   ]
  },
  {
   "cell_type": "code",
   "execution_count": 7,
   "id": "2d24f283-12b4-41ff-b9eb-dc7e8b1b3d34",
   "metadata": {},
   "outputs": [],
   "source": [
    "# USA equity pricing loader\n",
    "pipeline_loader = USEquityPricingLoader(\n",
    "    bundle_data.equity_daily_bar_reader,\n",
    "    bundle_data.adjustment_reader,\n",
    "    fx_reader=None\n",
    ")"
   ]
  },
  {
   "cell_type": "code",
   "execution_count": 9,
   "id": "a7a0f65f-232c-4488-afef-81ee11301076",
   "metadata": {},
   "outputs": [],
   "source": [
    "# Use the prcing loader to create a Pipeline engine\n",
    "engine = SimplePipelineEngine(\n",
    "    get_loader=lambda col: pipeline_loader,\n",
    "    asset_finder=bundle_data.asset_finder\n",
    ")"
   ]
  },
  {
   "cell_type": "code",
   "execution_count": 11,
   "id": "da7fb3c5-5a45-465f-867d-f3e15e6e0524",
   "metadata": {},
   "outputs": [],
   "source": [
    "# Implement a custom momentum factor that returns a measure of price momentum\n",
    "class MomentumFactor(CustomFactor):\n",
    "    inputs = [USEquityPricing.close, Returns(window_length=126)]\n",
    "    window_length = 252\n",
    "    def compute(self, today, assets, out, prices, returns):\n",
    "        out[:] = (\n",
    "            (prices[-21] -prices[-252]) / prices[-252]\n",
    "            - (prices[-1] - prices[-21]) / prices[-21]\n",
    "        ) / np.nanstd(returns, axis=0)"
   ]
  },
  {
   "cell_type": "code",
   "execution_count": 13,
   "id": "52555902-8bbe-468c-b1b9-04e2fa8721fd",
   "metadata": {},
   "outputs": [],
   "source": [
    "# A function that instantiates the custom momentum factor\n",
    "# builds a filter for average dollar volume ovet the last 30 days and returns a Pipeline\n",
    "def make_pipeline():\n",
    "    momentum = MomentumFactor()\n",
    "    dollar_volume = AverageDollarVolume(\n",
    "        window_length=30)\n",
    "    return Pipeline(\n",
    "        columns={\n",
    "            \"factor\": momentum,\n",
    "            \"longs\": momentum.top(50),\n",
    "            \"shorts\": momentum.bottom(50),\n",
    "            \"rank\": momentum.rank()\n",
    "        },\n",
    "        screen=dollar_volume.top(100)\n",
    "    )"
   ]
  },
  {
   "cell_type": "code",
   "execution_count": 15,
   "id": "736de317-3f92-4871-95eb-64a76f9ffe1e",
   "metadata": {},
   "outputs": [
    {
     "name": "stderr",
     "output_type": "stream",
     "text": [
      "D:\\Anaconda\\An\\envs\\my-quant-stack\\lib\\site-packages\\numpy\\lib\\_nanfunctions_impl.py:2019: RuntimeWarning: Degrees of freedom <= 0 for slice.\n",
      "  var = nanvar(a, axis=axis, dtype=dtype, out=out, ddof=ddof,\n"
     ]
    }
   ],
   "source": [
    "# Run the pipeline\n",
    "results = engine.run_pipeline(\n",
    "    make_pipeline(),\n",
    "    pd.to_datetime(\"2012-01-04\"),\n",
    "    pd.to_datetime(\"2012-03-01\")\n",
    ")"
   ]
  },
  {
   "cell_type": "code",
   "execution_count": 17,
   "id": "9a479931-326b-41e4-8257-d1174434a278",
   "metadata": {},
   "outputs": [],
   "source": [
    "# removing recors with no factor data\n",
    "# adding names to the MultiIndex and sorting the values first by date and then by factor value\n",
    "results.dropna(subset=\"factor\", inplace=True)\n",
    "results.index.names = [\"date\", \"symbol\"]\n",
    "results.sort_values(by=[\"date\", \"factor\"], inplace=True)"
   ]
  },
  {
   "cell_type": "code",
   "execution_count": 19,
   "id": "369d156c-6c63-490e-a01d-da88e8987a9e",
   "metadata": {},
   "outputs": [
    {
     "data": {
      "text/html": [
       "<div>\n",
       "<style scoped>\n",
       "    .dataframe tbody tr th:only-of-type {\n",
       "        vertical-align: middle;\n",
       "    }\n",
       "\n",
       "    .dataframe tbody tr th {\n",
       "        vertical-align: top;\n",
       "    }\n",
       "\n",
       "    .dataframe thead th {\n",
       "        text-align: right;\n",
       "    }\n",
       "</style>\n",
       "<table border=\"1\" class=\"dataframe\">\n",
       "  <thead>\n",
       "    <tr style=\"text-align: right;\">\n",
       "      <th></th>\n",
       "      <th></th>\n",
       "      <th>factor</th>\n",
       "      <th>longs</th>\n",
       "      <th>shorts</th>\n",
       "      <th>rank</th>\n",
       "    </tr>\n",
       "    <tr>\n",
       "      <th>date</th>\n",
       "      <th>symbol</th>\n",
       "      <th></th>\n",
       "      <th></th>\n",
       "      <th></th>\n",
       "      <th></th>\n",
       "    </tr>\n",
       "  </thead>\n",
       "  <tbody>\n",
       "    <tr>\n",
       "      <th rowspan=\"5\" valign=\"top\">2012-01-04</th>\n",
       "      <th>Equity(300 [BAC])</th>\n",
       "      <td>-2.522045</td>\n",
       "      <td>False</td>\n",
       "      <td>False</td>\n",
       "      <td>165.0</td>\n",
       "    </tr>\n",
       "    <tr>\n",
       "      <th>Equity(1264 [GS])</th>\n",
       "      <td>-2.215784</td>\n",
       "      <td>False</td>\n",
       "      <td>False</td>\n",
       "      <td>220.0</td>\n",
       "    </tr>\n",
       "    <tr>\n",
       "      <th>Equity(1888 [MS])</th>\n",
       "      <td>-2.204802</td>\n",
       "      <td>False</td>\n",
       "      <td>False</td>\n",
       "      <td>225.0</td>\n",
       "    </tr>\n",
       "    <tr>\n",
       "      <th>Equity(1894 [MSFT])</th>\n",
       "      <td>-1.949654</td>\n",
       "      <td>False</td>\n",
       "      <td>False</td>\n",
       "      <td>295.0</td>\n",
       "    </tr>\n",
       "    <tr>\n",
       "      <th>Equity(457 [C])</th>\n",
       "      <td>-1.830819</td>\n",
       "      <td>False</td>\n",
       "      <td>False</td>\n",
       "      <td>345.0</td>\n",
       "    </tr>\n",
       "    <tr>\n",
       "      <th>...</th>\n",
       "      <th>...</th>\n",
       "      <td>...</td>\n",
       "      <td>...</td>\n",
       "      <td>...</td>\n",
       "      <td>...</td>\n",
       "    </tr>\n",
       "    <tr>\n",
       "      <th rowspan=\"5\" valign=\"top\">2012-03-01</th>\n",
       "      <th>Equity(3105 [WMT])</th>\n",
       "      <td>3.409414</td>\n",
       "      <td>False</td>\n",
       "      <td>False</td>\n",
       "      <td>2607.0</td>\n",
       "    </tr>\n",
       "    <tr>\n",
       "      <th>Equity(1690 [LLY])</th>\n",
       "      <td>3.809608</td>\n",
       "      <td>False</td>\n",
       "      <td>False</td>\n",
       "      <td>2642.0</td>\n",
       "    </tr>\n",
       "    <tr>\n",
       "      <th>Equity(399 [BMY])</th>\n",
       "      <td>4.689588</td>\n",
       "      <td>True</td>\n",
       "      <td>False</td>\n",
       "      <td>2685.0</td>\n",
       "    </tr>\n",
       "    <tr>\n",
       "      <th>Equity(1770 [MCD])</th>\n",
       "      <td>4.816880</td>\n",
       "      <td>True</td>\n",
       "      <td>False</td>\n",
       "      <td>2691.0</td>\n",
       "    </tr>\n",
       "    <tr>\n",
       "      <th>Equity(1789 [MDLZ])</th>\n",
       "      <td>5.680276</td>\n",
       "      <td>True</td>\n",
       "      <td>False</td>\n",
       "      <td>2706.0</td>\n",
       "    </tr>\n",
       "  </tbody>\n",
       "</table>\n",
       "<p>4000 rows × 4 columns</p>\n",
       "</div>"
      ],
      "text/plain": [
       "                                  factor  longs  shorts    rank\n",
       "date       symbol                                              \n",
       "2012-01-04 Equity(300 [BAC])   -2.522045  False   False   165.0\n",
       "           Equity(1264 [GS])   -2.215784  False   False   220.0\n",
       "           Equity(1888 [MS])   -2.204802  False   False   225.0\n",
       "           Equity(1894 [MSFT]) -1.949654  False   False   295.0\n",
       "           Equity(457 [C])     -1.830819  False   False   345.0\n",
       "...                                  ...    ...     ...     ...\n",
       "2012-03-01 Equity(3105 [WMT])   3.409414  False   False  2607.0\n",
       "           Equity(1690 [LLY])   3.809608  False   False  2642.0\n",
       "           Equity(399 [BMY])    4.689588   True   False  2685.0\n",
       "           Equity(1770 [MCD])   4.816880   True   False  2691.0\n",
       "           Equity(1789 [MDLZ])  5.680276   True   False  2706.0\n",
       "\n",
       "[4000 rows x 4 columns]"
      ]
     },
     "metadata": {},
     "output_type": "display_data"
    }
   ],
   "source": [
    "display(results)"
   ]
  },
  {
   "cell_type": "code",
   "execution_count": null,
   "id": "4097609b-f243-418a-abaa-a64e1b11e631",
   "metadata": {},
   "outputs": [],
   "source": []
  }
 ],
 "metadata": {
  "kernelspec": {
   "display_name": "Python [conda env:my-quant-stack]",
   "language": "python",
   "name": "conda-env-my-quant-stack-py"
  },
  "language_info": {
   "codemirror_mode": {
    "name": "ipython",
    "version": 3
   },
   "file_extension": ".py",
   "mimetype": "text/x-python",
   "name": "python",
   "nbconvert_exporter": "python",
   "pygments_lexer": "ipython3",
   "version": "3.10.16"
  }
 },
 "nbformat": 4,
 "nbformat_minor": 5
}
