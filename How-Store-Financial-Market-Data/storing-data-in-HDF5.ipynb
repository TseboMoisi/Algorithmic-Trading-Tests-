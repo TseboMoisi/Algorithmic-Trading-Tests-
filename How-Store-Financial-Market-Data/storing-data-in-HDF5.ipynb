{
 "cells": [
  {
   "cell_type": "code",
   "execution_count": 3,
   "id": "59ed10cc-a1cd-4449-9f20-5855f9bbbb8d",
   "metadata": {},
   "outputs": [],
   "source": [
    "import pandas as pd\n",
    "from IPython.display import Markdown, display\n",
    "from openbb import obb\n",
    "obb.user.preferences.output_type = \"dataframe\"\n",
    "STOCK_DATA_STORE = \"stocks.h5\"\n",
    "FUTURES_DATA_STORE = \"futures.h5\"\n",
    "ticker = \"SPY\"\n",
    "root = \"CL\""
   ]
  },
  {
   "cell_type": "code",
   "execution_count": 5,
   "id": "d75adbbe-d8b3-402b-ae8f-6e8e4bfe5eed",
   "metadata": {},
   "outputs": [],
   "source": [
    "STOCKS_DATA_STORE = \"stocks.h5\"\n",
    "FUTURES_DATA_STORE = \"futures.h5\""
   ]
  },
  {
   "cell_type": "code",
   "execution_count": 7,
   "id": "1ba2cbfe-d570-43bc-8577-51e5a676968c",
   "metadata": {},
   "outputs": [],
   "source": [
    "# Loading the data for SPY\n",
    "spy_equity = obb.equity.price.historical(\n",
    "    ticker,\n",
    "    start_date=\"2021-01-01\",\n",
    "    provider=\"yfinance\"\n",
    ")\n",
    "spy_chains = obb.derivatives.options.chains(\n",
    "    ticker,\n",
    "    provider=\"cboe\"\n",
    ")\n",
    "\n",
    "spy_expirations = ( spy_chains.expiration.astype(str).unique().tolist() )\n",
    "\n",
    "spy_historic = (\n",
    "    obb\n",
    "    .equity\n",
    "    .price\n",
    "    .historical(\n",
    "        ticker + spy_expirations[-10].replace(\"-\", \"\")[2:] + \"c\" + \"00400000\",\n",
    "        start_date = \"2021-01-01\",\n",
    "        provider=\"yfinance\"\n",
    "    )\n",
    ")"
   ]
  },
  {
   "cell_type": "code",
   "execution_count": 8,
   "id": "bdba696c-9c55-4631-8e2e-fe56ba9c871d",
   "metadata": {},
   "outputs": [
    {
     "name": "stderr",
     "output_type": "stream",
     "text": [
      "C:\\Users\\tsebo\\AppData\\Local\\Temp\\ipykernel_12264\\2959147672.py:5: PerformanceWarning: \n",
      "your performance may suffer as PyTables will pickle object types that it cannot\n",
      "map directly to c-types [inferred_type->mixed,key->block2_values] [items->Index(['underlying_symbol', 'contract_symbol', 'expiration', 'option_type',\n",
      "       'last_trade_time', 'tick'],\n",
      "      dtype='object')]\n",
      "\n",
      "  store.put(\"equities/spy/chains\", spy_chains)\n"
     ]
    }
   ],
   "source": [
    "# Store the data in the HDF5 file\n",
    "with pd.HDFStore(STOCKS_DATA_STORE) as store:\n",
    "    store.put(\"equities/spy/stock_prices\", spy_equity)\n",
    "    store.put(\"equities/spy/options_prices\", spy_historic)\n",
    "    store.put(\"equities/spy/chains\", spy_chains)"
   ]
  },
  {
   "cell_type": "code",
   "execution_count": 11,
   "id": "c4b1b251-cf46-4434-829d-5c91623c20f5",
   "metadata": {},
   "outputs": [],
   "source": [
    "# Read the data from the HDF5 file into DataFrames\n",
    "with pd.HDFStore(STOCKS_DATA_STORE) as store:\n",
    "    spy_prices = store[\"equities/spy/stock_prices\"]\n",
    "    spy_options = store[\"equities/spy/options_prices\"]\n",
    "    spy_chains = store[\"equities/spy/chains\"]"
   ]
  },
  {
   "cell_type": "code",
   "execution_count": null,
   "id": "2bcf4071-2e20-4e04-928d-27a45d2f1ac7",
   "metadata": {},
   "outputs": [],
   "source": [
    "# Iterate through e-mini futures expirations, storing the historical data for each one in the \n",
    "# different file path\n",
    "with pd.HDFStore(FUTURES_DATA_STORE) as store:\n",
    "    for i in range(24, 31):\n",
    "        expiry = f\"20{i}-12\"\n",
    "        df = obb.derivatives.futures.historical(\n",
    "            symbol=[root],\n",
    "            expiry=expiry,\n",
    "            start_date=\"2021-01-01\",\n",
    "            provider=\"yfinance\"\n",
    "        )\n",
    "        df.rename(\n",
    "            columns={\n",
    "                \"close\": expiry\n",
    "            },\n",
    "            inplace=True\n",
    "        )\n",
    "        prices = df[expiry]\n",
    "        stores.put(f'futures/{root}/{expiry}', prices)"
   ]
  },
  {
   "cell_type": "code",
   "execution_count": null,
   "id": "3a0c829f-7805-4093-91f2-147a1823f2fb",
   "metadata": {},
   "outputs": [],
   "source": [
    "with pd.HDFStore(FUTURES_DATA_STORE) as store:\n",
    "    es_prices = store[f\"futures/{root}/2025-12\"]"
   ]
  },
  {
   "cell_type": "code",
   "execution_count": null,
   "id": "ce3f35e1-f162-4cb2-907d-59fe69960f84",
   "metadata": {},
   "outputs": [],
   "source": []
  }
 ],
 "metadata": {
  "kernelspec": {
   "display_name": "Python [conda env:my-quant-stack]",
   "language": "python",
   "name": "conda-env-my-quant-stack-py"
  },
  "language_info": {
   "codemirror_mode": {
    "name": "ipython",
    "version": 3
   },
   "file_extension": ".py",
   "mimetype": "text/x-python",
   "name": "python",
   "nbconvert_exporter": "python",
   "pygments_lexer": "ipython3",
   "version": "3.10.16"
  }
 },
 "nbformat": 4,
 "nbformat_minor": 5
}
