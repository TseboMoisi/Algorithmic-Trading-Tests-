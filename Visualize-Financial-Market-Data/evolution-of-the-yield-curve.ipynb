{
 "cells": [
  {
   "cell_type": "code",
   "execution_count": 55,
   "id": "e3884705-d1f4-4c59-b18b-3b30fc4dbb39",
   "metadata": {},
   "outputs": [],
   "source": [
    "import matplotlib.pyplot as plt\n",
    "import numpy as np\n",
    "from matplotlib import animation\n",
    "from mpl_toolkits.mplot3d import Axes3D\n",
    "from openbb import obb\n",
    "from IPython.display import Video\n",
    "\n",
    "obb.user.preferences.output_type = \"dataframe\""
   ]
  },
  {
   "cell_type": "code",
   "execution_count": 57,
   "id": "ebbd2a72-44b9-458b-8fe5-efb43f9465c7",
   "metadata": {},
   "outputs": [],
   "source": [
    "# Maturities - The length of time until a bond's principal is repaid\n",
    "maturities = [\"3m\", \"6m\", \"1y\", \"2y\", \"3y\", \"5y\", \"7y\", \"10y\", \"30y\"]\n",
    "data = obb.fixedincome.government.treasury_rates(\n",
    "    start_date=\"1985-01-01\",\n",
    "    provider=\"federal_reserve\",\n",
    ").dropna(how=\"all\").drop(columns=[\"month_1\", \"year_20\"])\n",
    "data.columns = maturities"
   ]
  },
  {
   "cell_type": "code",
   "execution_count": 83,
   "id": "e922e453-bf47-4407-9af0-ed4682758561",
   "metadata": {},
   "outputs": [
    {
     "name": "stdout",
     "output_type": "stream",
     "text": [
      "Data shape: (10056, 10)\n",
      "First few rows of data:\n",
      "                3m      6m      1y      2y      3y      5y      7y     10y  \\\n",
      "date                                                                         \n",
      "1985-01-02  0.0810  0.0862  0.0919  0.1003  0.1061  0.1122  0.1168  0.1170   \n",
      "1985-01-03  0.0807  0.0862  0.0917  0.1006  0.1055  0.1113  0.1154  0.1162   \n",
      "1985-01-04  0.0808  0.0861  0.0917  0.1008  0.1062  0.1119  0.1161  0.1167   \n",
      "1985-01-07  0.0806  0.0851  0.0903  0.1001  0.1050  0.1109  0.1141  0.1150   \n",
      "1985-01-08  0.0806  0.0848  0.0904  0.0999  0.1048  0.1104  0.1136  0.1145   \n",
      "\n",
      "               30y  inverted  \n",
      "date                          \n",
      "1985-01-02  0.1169     False  \n",
      "1985-01-03  0.1164     False  \n",
      "1985-01-04  0.1170     False  \n",
      "1985-01-07  0.1153     False  \n",
      "1985-01-08  0.1149     False  \n"
     ]
    }
   ],
   "source": [
    "# Add data verfication\n",
    "print(f\"Data shape: {data.shape}\")\n",
    "print(\"First few rows of data:\")\n",
    "print(data.head())"
   ]
  },
  {
   "cell_type": "code",
   "execution_count": 59,
   "id": "0a545b6b-53fb-417f-a19c-eba2110e735c",
   "metadata": {},
   "outputs": [],
   "source": [
    "# Mark where the yield curve is inverted\n",
    "data[\"inverted\"] = data[\"30y\"] < data[\"3m\"]"
   ]
  },
  {
   "cell_type": "code",
   "execution_count": 61,
   "id": "fc0f371a-0f7f-4dab-813a-ad07b78b99c5",
   "metadata": {},
   "outputs": [
    {
     "data": {
      "image/png": "[encoded data removed]",
      "text/plain": [
       "<Figure size 640x480 with 1 Axes>"
      ]
     },
     "metadata": {},
     "output_type": "display_data"
    }
   ],
   "source": [
    "# Create the figure\n",
    "fig = plt.figure()\n",
    "ax = fig.add_subplot(1, 1, 1)\n",
    "line, = ax.plot([], [])"
   ]
  },
  {
   "cell_type": "code",
   "execution_count": 63,
   "id": "c90d16d4-37dd-48e1-b4f5-66d8d9b42f00",
   "metadata": {},
   "outputs": [
    {
     "data": {
      "text/plain": [
       "(0.0, 20.0)"
      ]
     },
     "execution_count": 63,
     "metadata": {},
     "output_type": "execute_result"
    }
   ],
   "source": [
    "# Set the range of ticks\n",
    "ax.set_xlim(0, 8)\n",
    "ax.set_ylim(0, 20)"
   ]
  },
  {
   "cell_type": "code",
   "execution_count": 65,
   "id": "f4b5ce39-0d3d-4c18-9c46-f15d1a52c189",
   "metadata": {},
   "outputs": [
    {
     "data": {
      "text/plain": [
       "[<matplotlib.axis.YTick at 0x1f9dae05810>,\n",
       " <matplotlib.axis.YTick at 0x1f9d0463be0>,\n",
       " <matplotlib.axis.YTick at 0x1f9d36b7130>,\n",
       " <matplotlib.axis.YTick at 0x1f9d36b7b50>,\n",
       " <matplotlib.axis.YTick at 0x1f9d36b05b0>,\n",
       " <matplotlib.axis.YTick at 0x1f9d36b47f0>,\n",
       " <matplotlib.axis.YTick at 0x1f9d36b0b50>,\n",
       " <matplotlib.axis.YTick at 0x1f9dae07640>,\n",
       " <matplotlib.axis.YTick at 0x1f9d36b3490>]"
      ]
     },
     "execution_count": 65,
     "metadata": {},
     "output_type": "execute_result"
    }
   ],
   "source": [
    "# Pick the tick locations\n",
    "ax.set_xticks(range(9))\n",
    "ax.set_yticks([2, 4, 6, 8, 10, 12, 14, 16, 18])"
   ]
  },
  {
   "cell_type": "code",
   "execution_count": 67,
   "id": "ddc30982-1847-4956-8a47-25ab56cd32c5",
   "metadata": {},
   "outputs": [
    {
     "data": {
      "text/plain": [
       "[Text(0, 2, '2'),\n",
       " Text(0, 4, '4'),\n",
       " Text(0, 6, '6'),\n",
       " Text(0, 8, '8'),\n",
       " Text(0, 10, '10'),\n",
       " Text(0, 12, '12'),\n",
       " Text(0, 14, '14'),\n",
       " Text(0, 16, '16'),\n",
       " Text(0, 18, '18')]"
      ]
     },
     "execution_count": 67,
     "metadata": {},
     "output_type": "execute_result"
    }
   ],
   "source": [
    "# set axis labels\n",
    "ax.set_xticklabels(maturities)\n",
    "ax.set_yticklabels([2, 4, 6, 8, 10, 12, 14, 16, 18])"
   ]
  },
  {
   "cell_type": "code",
   "execution_count": 69,
   "id": "569be3f6-dc83-4ccb-9a52-d87f0e608b35",
   "metadata": {},
   "outputs": [],
   "source": [
    "# Force the y-axis labels to the left\n",
    "ax.yaxis.set_label_position(\"left\")\n",
    "ax.yaxis.tick_left()"
   ]
  },
  {
   "cell_type": "code",
   "execution_count": 71,
   "id": "b1fc4897-3539-4210-a317-fd04b739dd57",
   "metadata": {},
   "outputs": [
    {
     "data": {
      "text/plain": [
       "Text(0.5, 1.0, 'U.S Treasury Bond Yield Curve')"
      ]
     },
     "execution_count": 71,
     "metadata": {},
     "output_type": "execute_result"
    },
    {
     "data": {
      "image/png": "[encoded data removed]",
      "text/plain": [
       "<Figure size 640x480 with 1 Axes>"
      ]
     },
     "metadata": {},
     "output_type": "display_data"
    }
   ],
   "source": [
    "# Creating the axis labels\n",
    "plt.ylabel(\"Yield (%)\")\n",
    "plt.xlabel(\"Time to maturity\")\n",
    "plt.title(\"U.S Treasury Bond Yield Curve\")"
   ]
  },
  {
   "cell_type": "code",
   "execution_count": 73,
   "id": "64b74434-794b-450c-a93e-29c0c5da7e98",
   "metadata": {},
   "outputs": [],
   "source": [
    "# Function for when the animation is initialized\n",
    "def init_func():\n",
    "    line.set_data([], [])\n",
    "    return (line,)"
   ]
  },
  {
   "cell_type": "code",
   "execution_count": 75,
   "id": "58997c49-33db-4775-a6d3-eb9e721ec1bf",
   "metadata": {},
   "outputs": [],
   "source": [
    "# Function that runs at each iteration through the data to animate the data\n",
    "def animate(i):\n",
    "    x = range(0, len(maturities))\n",
    "    y = data[maturities].iloc[i]\n",
    "    dt_ = data.index[i].strftime(\"%Y-%m-%d\")\n",
    "    if data.inverted.iloc[i]:\n",
    "        line.set_color(\"r\")\n",
    "    else:\n",
    "        line.set_color(\"y\")\n",
    "    line.set_data(x, y)\n",
    "    plt.title(f\"U.S. Treasury Bond Yield Curve ({dt_})\")\n",
    "    return (line,)"
   ]
  },
  {
   "cell_type": "code",
   "execution_count": 77,
   "id": "66b9d9ac-0748-4d6e-8f16-01a7183c5250",
   "metadata": {},
   "outputs": [
    {
     "data": {
      "image/png": "[encoded data removed]",
      "text/plain": [
       "<Figure size 640x480 with 1 Axes>"
      ]
     },
     "metadata": {},
     "output_type": "display_data"
    }
   ],
   "source": [
    "# Generate the animation using the function, the figure, and the function to initialize the ani\n",
    "ani = animation.FuncAnimation(\n",
    "    fig,\n",
    "    animate,\n",
    "    init_func=init_func,\n",
    "    frames=len(data.index),\n",
    "    interval=250,\n",
    "    blit=True\n",
    ")\n",
    "\n",
    "# Save the animation to a file\n",
    "output_file = 'yield_curve_animation.mp4'\n",
    "ani.save(output_file, writer='ffmpeg', dpi=100)"
   ]
  },
  {
   "cell_type": "code",
   "execution_count": 78,
   "id": "8e000b30-e857-4199-94d9-0920c0693554",
   "metadata": {},
   "outputs": [
    {
     "data": {
      "text/html": [
       "<video src=\"yield_curve_animation.mp4\" controls  >\n",
       "      Your browser does not support the <code>video</code> element.\n",
       "    </video>"
      ],
      "text/plain": [
       "<IPython.core.display.Video object>"
      ]
     },
     "execution_count": 78,
     "metadata": {},
     "output_type": "execute_result"
    }
   ],
   "source": [
    "#Display the saved video\n",
    "Video(output_file)"
   ]
  },
  {
   "cell_type": "code",
   "execution_count": null,
   "id": "488e63cf-e15a-4dc9-a472-bfb36063e9f6",
   "metadata": {},
   "outputs": [],
   "source": []
  }
 ],
 "metadata": {
  "kernelspec": {
   "display_name": "Python [conda env:my-quant-stack]",
   "language": "python",
   "name": "conda-env-my-quant-stack-py"
  },
  "language_info": {
   "codemirror_mode": {
    "name": "ipython",
    "version": 3
   },
   "file_extension": ".py",
   "mimetype": "text/x-python",
   "name": "python",
   "nbconvert_exporter": "python",
   "pygments_lexer": "ipython3",
   "version": "3.10.16"
  }
 },
 "nbformat": 4,
 "nbformat_minor": 5
}
