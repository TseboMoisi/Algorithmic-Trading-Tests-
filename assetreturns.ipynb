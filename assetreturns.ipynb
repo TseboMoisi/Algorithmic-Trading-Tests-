{
 "cells": [
  {
   "cell_type": "code",
   "execution_count": 2,
   "id": "12f7470e-f177-42fe-aae8-fdd7d023059d",
   "metadata": {},
   "outputs": [],
   "source": [
    "import numpy as np\n",
    "import pandas as pd\n",
    "from openbb import obb\n",
    "obb.user.preferences.output_type = \"dataframe\""
   ]
  },
  {
   "cell_type": "code",
   "execution_count": 4,
   "id": "65c567e0-d45a-40ec-abba-1fc3b8a8f501",
   "metadata": {},
   "outputs": [],
   "source": [
    "# Loading stock price data for Apple Stocks\n",
    "data = obb.equity.price.historical(\n",
    "    \"AAPL\",\n",
    "    provider=\"yfinance\"\n",
    ")"
   ]
  },
  {
   "cell_type": "code",
   "execution_count": 6,
   "id": "e268a439-eba3-492c-a57c-fe61a424ad87",
   "metadata": {},
   "outputs": [],
   "source": [
    "df = data.loc[:, [\"close\"]]"
   ]
  },
  {
   "cell_type": "code",
   "execution_count": 10,
   "id": "e821404b-2f5c-46a9-b8c1-e64d47b8f18f",
   "metadata": {},
   "outputs": [],
   "source": [
    "# Creating new columns with simple returns and compound returns with the closing price\n",
    "df[\"simple\"] = df[\"close\"].pct_change()\n",
    "df[\"compound\"] = np.log(\n",
    "    df[\"close\"] / df[\"close\"].shift()\n",
    ")"
   ]
  },
  {
   "cell_type": "code",
   "execution_count": 12,
   "id": "9c398a35-18a9-43f0-aa38-8c9f12cd0ff9",
   "metadata": {},
   "outputs": [
    {
     "data": {
      "text/html": [
       "<div>\n",
       "<style scoped>\n",
       "    .dataframe tbody tr th:only-of-type {\n",
       "        vertical-align: middle;\n",
       "    }\n",
       "\n",
       "    .dataframe tbody tr th {\n",
       "        vertical-align: top;\n",
       "    }\n",
       "\n",
       "    .dataframe thead th {\n",
       "        text-align: right;\n",
       "    }\n",
       "</style>\n",
       "<table border=\"1\" class=\"dataframe\">\n",
       "  <thead>\n",
       "    <tr style=\"text-align: right;\">\n",
       "      <th></th>\n",
       "      <th>close</th>\n",
       "      <th>simple</th>\n",
       "      <th>compound</th>\n",
       "    </tr>\n",
       "    <tr>\n",
       "      <th>date</th>\n",
       "      <th></th>\n",
       "      <th></th>\n",
       "      <th></th>\n",
       "    </tr>\n",
       "  </thead>\n",
       "  <tbody>\n",
       "    <tr>\n",
       "      <th>2024-03-18</th>\n",
       "      <td>173.720001</td>\n",
       "      <td>NaN</td>\n",
       "      <td>NaN</td>\n",
       "    </tr>\n",
       "    <tr>\n",
       "      <th>2024-03-19</th>\n",
       "      <td>176.080002</td>\n",
       "      <td>0.013585</td>\n",
       "      <td>0.013494</td>\n",
       "    </tr>\n",
       "    <tr>\n",
       "      <th>2024-03-20</th>\n",
       "      <td>178.669998</td>\n",
       "      <td>0.014709</td>\n",
       "      <td>0.014602</td>\n",
       "    </tr>\n",
       "    <tr>\n",
       "      <th>2024-03-21</th>\n",
       "      <td>171.369995</td>\n",
       "      <td>-0.040857</td>\n",
       "      <td>-0.041716</td>\n",
       "    </tr>\n",
       "    <tr>\n",
       "      <th>2024-03-22</th>\n",
       "      <td>172.279999</td>\n",
       "      <td>0.005310</td>\n",
       "      <td>0.005296</td>\n",
       "    </tr>\n",
       "    <tr>\n",
       "      <th>...</th>\n",
       "      <td>...</td>\n",
       "      <td>...</td>\n",
       "      <td>...</td>\n",
       "    </tr>\n",
       "    <tr>\n",
       "      <th>2025-03-10</th>\n",
       "      <td>227.479996</td>\n",
       "      <td>-0.048480</td>\n",
       "      <td>-0.049694</td>\n",
       "    </tr>\n",
       "    <tr>\n",
       "      <th>2025-03-11</th>\n",
       "      <td>220.839996</td>\n",
       "      <td>-0.029189</td>\n",
       "      <td>-0.029624</td>\n",
       "    </tr>\n",
       "    <tr>\n",
       "      <th>2025-03-12</th>\n",
       "      <td>216.979996</td>\n",
       "      <td>-0.017479</td>\n",
       "      <td>-0.017633</td>\n",
       "    </tr>\n",
       "    <tr>\n",
       "      <th>2025-03-13</th>\n",
       "      <td>209.679993</td>\n",
       "      <td>-0.033644</td>\n",
       "      <td>-0.034223</td>\n",
       "    </tr>\n",
       "    <tr>\n",
       "      <th>2025-03-14</th>\n",
       "      <td>213.490005</td>\n",
       "      <td>0.018171</td>\n",
       "      <td>0.018007</td>\n",
       "    </tr>\n",
       "  </tbody>\n",
       "</table>\n",
       "<p>249 rows × 3 columns</p>\n",
       "</div>"
      ],
      "text/plain": [
       "                 close    simple  compound\n",
       "date                                      \n",
       "2024-03-18  173.720001       NaN       NaN\n",
       "2024-03-19  176.080002  0.013585  0.013494\n",
       "2024-03-20  178.669998  0.014709  0.014602\n",
       "2024-03-21  171.369995 -0.040857 -0.041716\n",
       "2024-03-22  172.279999  0.005310  0.005296\n",
       "...                ...       ...       ...\n",
       "2025-03-10  227.479996 -0.048480 -0.049694\n",
       "2025-03-11  220.839996 -0.029189 -0.029624\n",
       "2025-03-12  216.979996 -0.017479 -0.017633\n",
       "2025-03-13  209.679993 -0.033644 -0.034223\n",
       "2025-03-14  213.490005  0.018171  0.018007\n",
       "\n",
       "[249 rows x 3 columns]"
      ]
     },
     "metadata": {},
     "output_type": "display_data"
    }
   ],
   "source": [
    "display(df)"
   ]
  },
  {
   "cell_type": "code",
   "execution_count": 14,
   "id": "4e9b4cf4-ac1b-4b42-b28a-9777192f798a",
   "metadata": {},
   "outputs": [
    {
     "data": {
      "text/plain": [
       "date\n",
       "2024-03-18         NaN\n",
       "2024-03-19         NaN\n",
       "2024-03-20         NaN\n",
       "2024-03-21   -0.013528\n",
       "2024-03-22   -0.021581\n",
       "                ...   \n",
       "2025-03-10   -0.035039\n",
       "2025-03-11   -0.061573\n",
       "2025-03-12   -0.092400\n",
       "2025-03-13   -0.078249\n",
       "2025-03-14   -0.033282\n",
       "Name: close, Length: 249, dtype: float64"
      ]
     },
     "execution_count": 14,
     "metadata": {},
     "output_type": "execute_result"
    }
   ],
   "source": [
    "df[\"close\"].pct_change(periods=3)"
   ]
  },
  {
   "cell_type": "code",
   "execution_count": 16,
   "id": "77879f89-c1c9-4ca0-93d0-543d45442485",
   "metadata": {},
   "outputs": [
    {
     "data": {
      "text/plain": [
       "date\n",
       "2024-03-18         NaN\n",
       "2024-03-19         NaN\n",
       "2024-03-20         NaN\n",
       "2024-03-21   -0.013620\n",
       "2024-03-22   -0.021817\n",
       "                ...   \n",
       "2025-03-10   -0.035667\n",
       "2025-03-11   -0.063550\n",
       "2025-03-12   -0.096951\n",
       "2025-03-13   -0.081480\n",
       "2025-03-14   -0.033848\n",
       "Name: close, Length: 249, dtype: float64"
      ]
     },
     "execution_count": 16,
     "metadata": {},
     "output_type": "execute_result"
    }
   ],
   "source": [
    "np.log(df[\"close\"] / df[\"close\"].shift(3))"
   ]
  },
  {
   "cell_type": "code",
   "execution_count": null,
   "id": "5964e1c5-c49f-494a-bcea-fda7028faee2",
   "metadata": {},
   "outputs": [],
   "source": []
  }
 ],
 "metadata": {
  "kernelspec": {
   "display_name": "Python [conda env:my-quant-stack]",
   "language": "python",
   "name": "conda-env-my-quant-stack-py"
  },
  "language_info": {
   "codemirror_mode": {
    "name": "ipython",
    "version": 3
   },
   "file_extension": ".py",
   "mimetype": "text/x-python",
   "name": "python",
   "nbconvert_exporter": "python",
   "pygments_lexer": "ipython3",
   "version": "3.10.16"
  }
 },
 "nbformat": 4,
 "nbformat_minor": 5
}
