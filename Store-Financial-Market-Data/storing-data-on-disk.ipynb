{
 "cells": [
  {
   "cell_type": "code",
   "execution_count": 1,
   "id": "ffe4dca2-ea92-49bb-ad5e-98c755bdd5de",
   "metadata": {},
   "outputs": [],
   "source": [
    "import pandas as pd\n",
    "from openbb import obb\n",
    "obb.user.preferences.output_type = \"dataframe\""
   ]
  },
  {
   "cell_type": "code",
   "execution_count": 11,
   "id": "e20db0f5-c9ce-47ca-8d67-37746f89d1af",
   "metadata": {},
   "outputs": [],
   "source": [
    "# Here we create a function to download data, change the results, and return a DataFrame\n",
    "def get_stock_data(symbol, start_date=None, end_date=None):\n",
    "    data = obb.equity.price.historical(\n",
    "        symbol,\n",
    "        start_date=start_date,\n",
    "        end_date=end_date,\n",
    "        provider=\"yfinance\",\n",
    "    )\n",
    "    data.reset_index(inplace=True)\n",
    "    data['symbol'] = symbol\n",
    "    return data"
   ]
  },
  {
   "cell_type": "code",
   "execution_count": 13,
   "id": "39120bc2-645e-4ebe-b581-1ea62cb851fa",
   "metadata": {},
   "outputs": [],
   "source": [
    "# Here we create a function to save a range of data as a CSV file\n",
    "def save_data_range(symbol, start_date=None, end_date=None):\n",
    "    data = get_stock_data(symbol, start_date, end_date)\n",
    "    data.to_csv(\n",
    "        f\"{symbol}.gz\",\n",
    "        compression=\"gzip\",\n",
    "        index=False\n",
    "    )"
   ]
  },
  {
   "cell_type": "code",
   "execution_count": 15,
   "id": "d9fd2640-c037-4fa9-804f-f6696d0585a8",
   "metadata": {},
   "outputs": [],
   "source": [
    "# A function that reads a CSV file and returns a DataFrame\n",
    "def get_data(symbol):\n",
    "    return pd.read_csv(\n",
    "        f\"{symbol}.gz\",\n",
    "        compression=\"gzip\",\n",
    "        index_col=\"date\",\n",
    "        usecols=[\"date\", \"open\", \"high\", \"low\", \"close\", \"volume\", \"symbol\"],\n",
    "    )"
   ]
  },
  {
   "cell_type": "code",
   "execution_count": 17,
   "id": "5b70d27d-24a6-43b0-810b-46e3fd1576bd",
   "metadata": {},
   "outputs": [],
   "source": [
    "save_data_range(\"PLTR\")"
   ]
  },
  {
   "cell_type": "code",
   "execution_count": null,
   "id": "b10c0bab-7609-4043-88cc-9698ade45e1a",
   "metadata": {},
   "outputs": [],
   "source": []
  }
 ],
 "metadata": {
  "kernelspec": {
   "display_name": "Python [conda env:my-quant-stack]",
   "language": "python",
   "name": "conda-env-my-quant-stack-py"
  },
  "language_info": {
   "codemirror_mode": {
    "name": "ipython",
    "version": 3
   },
   "file_extension": ".py",
   "mimetype": "text/x-python",
   "name": "python",
   "nbconvert_exporter": "python",
   "pygments_lexer": "ipython3",
   "version": "3.10.16"
  }
 },
 "nbformat": 4,
 "nbformat_minor": 5
}
