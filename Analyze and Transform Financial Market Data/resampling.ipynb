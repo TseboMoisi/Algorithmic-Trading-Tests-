{
 "cells": [
  {
   "cell_type": "code",
   "execution_count": 1,
   "id": "45182ef4-b5d7-4d66-8707-7b504f1e729a",
   "metadata": {},
   "outputs": [],
   "source": [
    "import numpy as np\n",
    "import pandas as pd\n",
    "from openbb import obb\n",
    "obb.user.preferences.output_type = \"dataframe\""
   ]
  },
  {
   "cell_type": "code",
   "execution_count": 2,
   "id": "29685b10-90a5-4743-8c04-3ede4c898e99",
   "metadata": {},
   "outputs": [],
   "source": [
    "df = obb.equity.price.historical(\n",
    "    \"AAPL\",\n",
    "    interval=\"1m\",\n",
    "    provider=\"yfinance\"\n",
    ")\n"
   ]
  },
  {
   "cell_type": "code",
   "execution_count": 5,
   "id": "abba795c-cab8-4d52-8e9d-a84b1a47f9dd",
   "metadata": {},
   "outputs": [],
   "source": [
    "resampled = df.resample(rule=\"h\")[\"close\"]"
   ]
  },
  {
   "cell_type": "code",
   "execution_count": 7,
   "id": "e9110075-ce0e-4c39-9ee1-9cfbf6d578e9",
   "metadata": {},
   "outputs": [
    {
     "data": {
      "text/plain": [
       "date\n",
       "2025-03-13 09:00:00    215.173203\n",
       "2025-03-13 10:00:00    215.500000\n",
       "2025-03-13 11:00:00    214.580002\n",
       "2025-03-13 12:00:00    211.904999\n",
       "2025-03-13 13:00:00    211.480392\n",
       "                          ...    \n",
       "2025-03-19 07:00:00           NaN\n",
       "2025-03-19 08:00:00           NaN\n",
       "2025-03-19 09:00:00    214.689896\n",
       "2025-03-19 10:00:00    217.553497\n",
       "2025-03-19 11:00:00    215.570007\n",
       "Freq: h, Name: close, Length: 147, dtype: float64"
      ]
     },
     "execution_count": 7,
     "metadata": {},
     "output_type": "execute_result"
    }
   ],
   "source": [
    "resampled.first()"
   ]
  },
  {
   "cell_type": "code",
   "execution_count": 9,
   "id": "462887b7-e21b-4c90-9299-f15a0a52875e",
   "metadata": {},
   "outputs": [
    {
     "data": {
      "text/plain": [
       "date\n",
       "2025-03-13 09:00:00    215.264999\n",
       "2025-03-13 10:00:00    214.225006\n",
       "2025-03-13 11:00:00    212.075699\n",
       "2025-03-13 12:00:00    211.490005\n",
       "2025-03-13 13:00:00    211.115005\n",
       "                          ...    \n",
       "2025-03-19 07:00:00           NaN\n",
       "2025-03-19 08:00:00           NaN\n",
       "2025-03-19 09:00:00    217.139999\n",
       "2025-03-19 10:00:00    215.550003\n",
       "2025-03-19 11:00:00    216.268997\n",
       "Freq: h, Name: close, Length: 147, dtype: float64"
      ]
     },
     "execution_count": 9,
     "metadata": {},
     "output_type": "execute_result"
    }
   ],
   "source": [
    "resampled.last()"
   ]
  },
  {
   "cell_type": "code",
   "execution_count": 11,
   "id": "b6623646-eb33-4ac9-b74a-c3916facfd8f",
   "metadata": {},
   "outputs": [
    {
     "data": {
      "text/plain": [
       "date\n",
       "2025-03-13 09:00:00    215.509786\n",
       "2025-03-13 10:00:00    214.668070\n",
       "2025-03-13 11:00:00    213.666193\n",
       "2025-03-13 12:00:00    211.984172\n",
       "2025-03-13 13:00:00    211.022949\n",
       "                          ...    \n",
       "2025-03-19 07:00:00           NaN\n",
       "2025-03-19 08:00:00           NaN\n",
       "2025-03-19 09:00:00    215.732710\n",
       "2025-03-19 10:00:00    217.075621\n",
       "2025-03-19 11:00:00    215.847101\n",
       "Freq: h, Name: close, Length: 147, dtype: float64"
      ]
     },
     "execution_count": 11,
     "metadata": {},
     "output_type": "execute_result"
    }
   ],
   "source": [
    "resampled.mean()"
   ]
  },
  {
   "cell_type": "code",
   "execution_count": 15,
   "id": "231a49e9-db1c-44ab-8d90-03c4e70fa7ec",
   "metadata": {},
   "outputs": [
    {
     "data": {
      "text/html": [
       "<div>\n",
       "<style scoped>\n",
       "    .dataframe tbody tr th:only-of-type {\n",
       "        vertical-align: middle;\n",
       "    }\n",
       "\n",
       "    .dataframe tbody tr th {\n",
       "        vertical-align: top;\n",
       "    }\n",
       "\n",
       "    .dataframe thead th {\n",
       "        text-align: right;\n",
       "    }\n",
       "</style>\n",
       "<table border=\"1\" class=\"dataframe\">\n",
       "  <thead>\n",
       "    <tr style=\"text-align: right;\">\n",
       "      <th></th>\n",
       "      <th>open</th>\n",
       "      <th>high</th>\n",
       "      <th>low</th>\n",
       "      <th>close</th>\n",
       "    </tr>\n",
       "    <tr>\n",
       "      <th>date</th>\n",
       "      <th></th>\n",
       "      <th></th>\n",
       "      <th></th>\n",
       "      <th></th>\n",
       "    </tr>\n",
       "  </thead>\n",
       "  <tbody>\n",
       "    <tr>\n",
       "      <th>2025-03-13 09:00:00</th>\n",
       "      <td>215.173203</td>\n",
       "      <td>216.419998</td>\n",
       "      <td>214.639999</td>\n",
       "      <td>215.264999</td>\n",
       "    </tr>\n",
       "    <tr>\n",
       "      <th>2025-03-13 10:00:00</th>\n",
       "      <td>215.500000</td>\n",
       "      <td>215.869995</td>\n",
       "      <td>213.750000</td>\n",
       "      <td>214.225006</td>\n",
       "    </tr>\n",
       "    <tr>\n",
       "      <th>2025-03-13 11:00:00</th>\n",
       "      <td>214.580002</td>\n",
       "      <td>214.669998</td>\n",
       "      <td>212.075699</td>\n",
       "      <td>212.075699</td>\n",
       "    </tr>\n",
       "    <tr>\n",
       "      <th>2025-03-13 12:00:00</th>\n",
       "      <td>211.904999</td>\n",
       "      <td>212.820007</td>\n",
       "      <td>211.250000</td>\n",
       "      <td>211.490005</td>\n",
       "    </tr>\n",
       "    <tr>\n",
       "      <th>2025-03-13 13:00:00</th>\n",
       "      <td>211.480392</td>\n",
       "      <td>211.480392</td>\n",
       "      <td>210.600906</td>\n",
       "      <td>211.115005</td>\n",
       "    </tr>\n",
       "    <tr>\n",
       "      <th>...</th>\n",
       "      <td>...</td>\n",
       "      <td>...</td>\n",
       "      <td>...</td>\n",
       "      <td>...</td>\n",
       "    </tr>\n",
       "    <tr>\n",
       "      <th>2025-03-19 07:00:00</th>\n",
       "      <td>NaN</td>\n",
       "      <td>NaN</td>\n",
       "      <td>NaN</td>\n",
       "      <td>NaN</td>\n",
       "    </tr>\n",
       "    <tr>\n",
       "      <th>2025-03-19 08:00:00</th>\n",
       "      <td>NaN</td>\n",
       "      <td>NaN</td>\n",
       "      <td>NaN</td>\n",
       "      <td>NaN</td>\n",
       "    </tr>\n",
       "    <tr>\n",
       "      <th>2025-03-19 09:00:00</th>\n",
       "      <td>214.689896</td>\n",
       "      <td>217.559998</td>\n",
       "      <td>214.600006</td>\n",
       "      <td>217.139999</td>\n",
       "    </tr>\n",
       "    <tr>\n",
       "      <th>2025-03-19 10:00:00</th>\n",
       "      <td>217.553497</td>\n",
       "      <td>218.500000</td>\n",
       "      <td>215.550003</td>\n",
       "      <td>215.550003</td>\n",
       "    </tr>\n",
       "    <tr>\n",
       "      <th>2025-03-19 11:00:00</th>\n",
       "      <td>215.570007</td>\n",
       "      <td>216.625000</td>\n",
       "      <td>215.039993</td>\n",
       "      <td>216.268997</td>\n",
       "    </tr>\n",
       "  </tbody>\n",
       "</table>\n",
       "<p>147 rows × 4 columns</p>\n",
       "</div>"
      ],
      "text/plain": [
       "                           open        high         low       close\n",
       "date                                                               \n",
       "2025-03-13 09:00:00  215.173203  216.419998  214.639999  215.264999\n",
       "2025-03-13 10:00:00  215.500000  215.869995  213.750000  214.225006\n",
       "2025-03-13 11:00:00  214.580002  214.669998  212.075699  212.075699\n",
       "2025-03-13 12:00:00  211.904999  212.820007  211.250000  211.490005\n",
       "2025-03-13 13:00:00  211.480392  211.480392  210.600906  211.115005\n",
       "...                         ...         ...         ...         ...\n",
       "2025-03-19 07:00:00         NaN         NaN         NaN         NaN\n",
       "2025-03-19 08:00:00         NaN         NaN         NaN         NaN\n",
       "2025-03-19 09:00:00  214.689896  217.559998  214.600006  217.139999\n",
       "2025-03-19 10:00:00  217.553497  218.500000  215.550003  215.550003\n",
       "2025-03-19 11:00:00  215.570007  216.625000  215.039993  216.268997\n",
       "\n",
       "[147 rows x 4 columns]"
      ]
     },
     "execution_count": 15,
     "metadata": {},
     "output_type": "execute_result"
    }
   ],
   "source": [
    "resampled.ohlc()"
   ]
  },
  {
   "cell_type": "code",
   "execution_count": null,
   "id": "ecf96b2c-bc82-4834-aa0e-3957802cb81a",
   "metadata": {},
   "outputs": [],
   "source": []
  }
 ],
 "metadata": {
  "kernelspec": {
   "display_name": "Python [conda env:my-quant-stack]",
   "language": "python",
   "name": "conda-env-my-quant-stack-py"
  },
  "language_info": {
   "codemirror_mode": {
    "name": "ipython",
    "version": 3
   },
   "file_extension": ".py",
   "mimetype": "text/x-python",
   "name": "python",
   "nbconvert_exporter": "python",
   "pygments_lexer": "ipython3",
   "version": "3.10.16"
  }
 },
 "nbformat": 4,
 "nbformat_minor": 5
}
