{
 "cells": [
  {
   "cell_type": "code",
   "execution_count": 1,
   "id": "2ded788f-4549-4b9f-aa3c-d5ca1b994c73",
   "metadata": {},
   "outputs": [],
   "source": [
    "import numpy as np\n",
    "import scipy.stats as stats\n",
    "import vectorbt as vbt"
   ]
  },
  {
   "cell_type": "code",
   "execution_count": 3,
   "id": "64830195-49b8-448b-bf13-2c8c60f2a168",
   "metadata": {},
   "outputs": [],
   "source": [
    "# load market price data\n",
    "start = \"2016-01-01 UTC\"\n",
    "end = \"2020-01-01 UTC\"\n",
    "prices = vbt.YFData.download(\n",
    "    \"AAPL\",\n",
    "    start=start,\n",
    "    end=end\n",
    ").get(\"Close\")"
   ]
  },
  {
   "cell_type": "code",
   "execution_count": 29,
   "id": "ab722173-9b35-47cf-b22b-ed63b141c6db",
   "metadata": {},
   "outputs": [],
   "source": [
    "# split data for walk-forward optimization\n",
    "# 30 splits, each two years long and reserves 180 days for the test\n",
    "(in_price, in_indexes), (out_price, out_indexses) = prices.vbt.rolling_split(\n",
    "    n=30,\n",
    "    window_len=365 * 2,\n",
    "    set_lens=(180,),\n",
    "    left_to_right=False,\n",
    ")"
   ]
  },
  {
   "cell_type": "code",
   "execution_count": 7,
   "id": "63a347f6-fcd3-40a5-9cda-0ac69b4798a7",
   "metadata": {},
   "outputs": [],
   "source": [
    "# function that returns the sharpe ratios for all combinations of moving average windows\n",
    "def simulate_all_params(price, windows, **kwargs):\n",
    "    fast_ma, slow_ma = vbt.MA.run_combs(\n",
    "        price,\n",
    "        windows,\n",
    "        r=2,\n",
    "        short_names=[\"fast\", \"slow\"]\n",
    "    )\n",
    "    entries = fast_ma.ma_crossed_above(slow_ma)\n",
    "    exits = fast_ma.ma_crossed_below(slow_ma)\n",
    "    pf = vbt.Portfolio.from_signals(price, entries, exits, **kwargs)\n",
    "    return pf.sharpe_ratio()"
   ]
  },
  {
   "cell_type": "code",
   "execution_count": 13,
   "id": "4de65d63-78a3-4111-8f37-f8af3ff1f401",
   "metadata": {},
   "outputs": [],
   "source": [
    "# helper functions that return the indexes and parameters where the performance is maximized\n",
    "def get_best_index(performance):\n",
    "    return performance[\n",
    "        performance.groupby(\"split_idx\").idxmax()\n",
    "    ].index\n",
    "def get_best_params(best_index, level_name):\n",
    "    return best_index.get_level_values(level_name).to_numpy()"
   ]
  },
  {
   "cell_type": "code",
   "execution_count": 21,
   "id": "ce4d15dd-211d-446a-8956-5e52a33533e1",
   "metadata": {},
   "outputs": [],
   "source": [
    "# A function that runs the backtest given the best moving average values and returns the associated Sharpe ratio\n",
    "def simulate_best_params(price, best_fast_windows, best_slow_windows, **kwargs):\n",
    "    fast_ma = vbt.MA.run(\n",
    "        price,\n",
    "        window=best_fast_windows,\n",
    "        per_column=True\n",
    "    )\n",
    "    slow_ma = vbt.MA.run(\n",
    "        price,\n",
    "        window=best_slow_windows,\n",
    "        per_column=True\n",
    "    )\n",
    "    entries = fast_ma.ma_crossed_above(slow_ma)\n",
    "    exits = fast_ma.ma_crossed_below(slow_ma)\n",
    "    pf = vbt.Portfolio.from_signals(\n",
    "        price, entries, exits, **kwargs)\n",
    "    return pf.sharpe_ratio()"
   ]
  },
  {
   "cell_type": "code",
   "execution_count": 23,
   "id": "c3d70371-259b-458d-ad32-8a549f452fe6",
   "metadata": {},
   "outputs": [],
   "source": [
    "# execute the analysis by passing in a range of moving average windows to simulute_all_params\n",
    "# returns the sharpe ratio for every combination\n",
    "windows = np.arange(10, 40)\n",
    "in_sharpe = simulate_all_params(\n",
    "    in_price,\n",
    "    windows,\n",
    "    direction=\"both\",\n",
    "    freq=\"d\"\n",
    ")"
   ]
  },
  {
   "cell_type": "code",
   "execution_count": 24,
   "id": "6329d389-f2aa-494a-92cd-fd1fef883af5",
   "metadata": {},
   "outputs": [],
   "source": [
    "# return the best in-sample moving average windows and combine them into one array\n",
    "in_best_index = get_best_index(in_sharpe)\n",
    "in_best_fast_windows = get_best_params(\n",
    "    in_best_index,\n",
    "    \"fast_window\"\n",
    ")\n",
    "in_best_slow_windows = get_best_params(\n",
    "    in_best_index,\n",
    "    \"slow_window\"\n",
    ")\n",
    "in_best_window_pairs = np.array(\n",
    "    list(\n",
    "        zip(\n",
    "            in_best_fast_windows,\n",
    "            in_best_slow_windows\n",
    "        )\n",
    "    )\n",
    ")"
   ]
  },
  {
   "cell_type": "code",
   "execution_count": 37,
   "id": "8f377532-ef34-4ac6-8ec9-95a45d385787",
   "metadata": {},
   "outputs": [],
   "source": [
    "#retrieve the out-of-sample Sharpe ratios using the optimized moving average windows\n",
    "out_test_sharpe = simulate_best_params(\n",
    "    out_price,\n",
    "    in_best_fast_windows,\n",
    "    in_best_slow_windows,\n",
    "    direction=\"both\",\n",
    "    freq=\"d\"\n",
    ")"
   ]
  },
  {
   "cell_type": "code",
   "execution_count": 33,
   "id": "df2bd7a1-73a3-49c6-b7ff-5f488d1095cb",
   "metadata": {},
   "outputs": [
    {
     "data": {
      "text/plain": [
       "ma_window  ma_window  split_idx\n",
       "10         11         0            0.104944\n",
       "12         13         1            0.318348\n",
       "                      2            0.971242\n",
       "10         11         3            1.386778\n",
       "12         13         4            1.303290\n",
       "10         11         5            2.133301\n",
       "                      6            2.043528\n",
       "18         23         7            1.756913\n",
       "                      8            2.219375\n",
       "                      9            2.283887\n",
       "                      10           2.544001\n",
       "                      11           2.724653\n",
       "                      12           2.389905\n",
       "                      13           2.838682\n",
       "                      14           2.393308\n",
       "                      15           1.116318\n",
       "23         26         16           0.670548\n",
       "                      17           0.594139\n",
       "                      18           0.816456\n",
       "24         25         19           0.276340\n",
       "                      20          -0.052502\n",
       "                      21          -0.363481\n",
       "                      22          -0.895629\n",
       "                      23          -0.665962\n",
       "                      24          -0.147549\n",
       "                      25           0.369183\n",
       "                      26           0.710694\n",
       "                      27           0.463630\n",
       "                      28           1.064856\n",
       "                      29           1.437171\n",
       "Name: sharpe_ratio, dtype: float64"
      ]
     },
     "metadata": {},
     "output_type": "display_data"
    }
   ],
   "source": [
    "display(out_test_sharpe)"
   ]
  },
  {
   "cell_type": "code",
   "execution_count": null,
   "id": "473022da-504f-4319-949c-8061e9f73777",
   "metadata": {},
   "outputs": [],
   "source": [
    " "
   ]
  }
 ],
 "metadata": {
  "kernelspec": {
   "display_name": "Python [conda env:my-quant-stack]",
   "language": "python",
   "name": "conda-env-my-quant-stack-py"
  },
  "language_info": {
   "codemirror_mode": {
    "name": "ipython",
    "version": 3
   },
   "file_extension": ".py",
   "mimetype": "text/x-python",
   "name": "python",
   "nbconvert_exporter": "python",
   "pygments_lexer": "ipython3",
   "version": "3.10.16"
  }
 },
 "nbformat": 4,
 "nbformat_minor": 5
}
